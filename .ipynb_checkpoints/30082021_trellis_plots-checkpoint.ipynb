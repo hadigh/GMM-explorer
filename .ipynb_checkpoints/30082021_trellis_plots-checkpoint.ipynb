{
 "cells": [
  {
   "cell_type": "markdown",
   "metadata": {},
   "source": [
    "# Trellis plots that work after Michele's \"phase 3\" changes "
   ]
  },
  {
   "cell_type": "code",
   "execution_count": 2,
   "metadata": {},
   "outputs": [],
   "source": [
    "%load_ext autoreload\n",
    "%autoreload 2"
   ]
  },
  {
   "cell_type": "code",
   "execution_count": 3,
   "metadata": {},
   "outputs": [],
   "source": [
    "import re\n",
    "import numpy as np\n",
    "import matplotlib.pyplot as plt\n",
    "from matplotlib.patches import Polygon\n",
    "from matplotlib.collections import PatchCollection\n",
    "from openquake.hazardlib.scalerel import WC1994\n",
    "from openquake.hazardlib.scalerel.allenhayes2017 import AllenHayesInterfaceBilinear\n",
    "from openquake.hazardlib.const import TRT, StdDev\n",
    "from openquake.hazardlib.contexts import ContextMaker\n",
    "from openquake.hazardlib.imt import PGA, SA\n",
    "from matplotlib import pyplot\n",
    "\n",
    "# import these functions from the utils.py file\n",
    "from utils import GmcLt, get_rupture, get_sites_from_rupture"
   ]
  },
  {
   "cell_type": "markdown",
   "metadata": {},
   "source": [
    "### Get GMPEs from logic tree (not used here)"
   ]
  },
  {
   "cell_type": "code",
   "execution_count": 4,
   "metadata": {},
   "outputs": [],
   "source": [
    "fname = './data/gmmLTs/gmmLTrisk_site_model.xml'\n",
    "fname = './data/gmmLTs/gmmLTrisk_corrected.xml'\n",
    "fname = './data/gmmLTs/gmmLT_trash.xml'\n",
    "fname = '/Users/mpagani/Repos/mosaic/SAM/in/gmmLT.xml'\n",
    "\n",
    "gmclt = GmcLt.from_file(fname)\n",
    "imt = SA(0.3)\n",
    "stds = [StdDev.TOTAL]\n",
    "\n",
    "trts = [TRT.ACTIVE_SHALLOW_CRUST, 'Active Shallow Crust CCA']\n",
    "# trts = ['Subduction Interface', 'Subduction Interface CCA']"
   ]
  },
  {
   "cell_type": "markdown",
   "metadata": {},
   "source": [
    "### Plot GMPEs from a list"
   ]
  },
  {
   "cell_type": "code",
   "execution_count": 5,
   "metadata": {},
   "outputs": [
    {
     "ename": "SyntaxError",
     "evalue": "closing parenthesis ')' does not match opening parenthesis '[' on line 22 (1941826398.py, line 23)",
     "output_type": "error",
     "traceback": [
      "\u001b[0;36m  Input \u001b[0;32mIn [5]\u001b[0;36m\u001b[0m\n\u001b[0;31m    NGAEastGMPE(gmpe_table='NGAEast_BOORE_A04_J15.hdf5'))]\u001b[0m\n\u001b[0m                                                        ^\u001b[0m\n\u001b[0;31mSyntaxError\u001b[0m\u001b[0;31m:\u001b[0m closing parenthesis ')' does not match opening parenthesis '[' on line 22\n"
     ]
    }
   ],
   "source": [
    "from openquake.hazardlib.gsim.abrahamson_2014 import AbrahamsonEtAl2014\n",
    "from openquake.hazardlib.gsim.boore_2014 import BooreEtAl2014\n",
    "from openquake.hazardlib.gsim.campbell_bozorgnia_2014 import CampbellBozorgnia2014\n",
    "from openquake.hazardlib.gsim.chiou_youngs_2014 import ChiouYoungs2014\n",
    "\n",
    "from openquake.hazardlib.gsim.abrahamson_2015 import AbrahamsonEtAl2015SInter, AbrahamsonEtAl2015SSlab\n",
    "from openquake.hazardlib.gsim.abrahamson_gulerce_2020 import AbrahamsonGulerce2020SInter, AbrahamsonGulerce2020SSlab\n",
    "from openquake.hazardlib.gsim.si_2020 import SiEtAl2020SInter, SiEtAl2020SSlab\n",
    "from openquake.hazardlib.gsim.kuehn_2020 import KuehnEtAl2020SInter, KuehnEtAl2020SSlab\n",
    "from openquake.hazardlib.gsim.parker_2020 import ParkerEtAl2020SInter, ParkerEtAl2020SSlab\n",
    "\n",
    "from openquake.hazardlib.gsim.atkinson_boore_2003 import AtkinsonBoore2003SInter, AtkinsonBoore2003SSlab\n",
    "from openquake.hazardlib.gsim.youngs_1997 import YoungsEtAl1997SInter, YoungsEtAl1997SSlab\n",
    "from openquake.hazardlib.gsim.megawati_pan_2010 import MegawatiPan2010\n",
    "\n",
    "from openquake.hazardlib.gsim.nga_east import NGAEastGMPE\n",
    "\n",
    "######################\n",
    "# Input Parameters\n",
    "######################\n",
    "\n",
    "gmpe_list=[AbrahamsonGulerce2020SInter(), KuehnEtAl2020SInter(), ParkerEtAl2020SInter(),\n",
    "          NGAEastGMPE(gmpe_table='NGAEast_BOORE_A04_J15.hdf5')]\n",
    "\n",
    "colors=['r', 'orange', 'gold', 'lime', 'dodgerblue', 'm', 'k', 'y']\n",
    "colors=['r', 'lime', 'dodgerblue', 'k']\n",
    "\n",
    "# Parameters that change by subplot \n",
    "mag_list = [6,7,8,9]\n",
    "imt_list = [PGA(), SA(0.3), SA(1.0), SA(2.0)] ############# PGA NEEDS \"()\"\n",
    "\n",
    "                                                   \n",
    "######################\n",
    "# Plot SA vs Distance\n",
    "######################\n",
    "\n",
    "fig = pyplot.figure(figsize=(16, 12))\n",
    "\n",
    "for n, i in enumerate(imt_list): #iterate though imt_list, use this number for defining subplots\n",
    "    \n",
    "    for l, m in enumerate(mag_list):  #iterate though mag_list, use this number for defining subplots\n",
    "    \n",
    "        fig.add_subplot(len(imt_list), len(mag_list), l+1+n*len(mag_list)) #(#vert, #hor, #subplot)\n",
    "        \n",
    "        for gmpe, col in zip(gmpe_list, colors): \n",
    "            \n",
    "            trt = gmpe.DEFINED_FOR_TECTONIC_REGION_TYPE\n",
    "            # next part from utils.py, calls PlanarSurface.from_hypocenter()\n",
    "            rup = get_rupture(0.0, 0.0, 20.0, WC1994(), mag=m, aratio=10.0, strike=0, dip=20, rake=79, trt=trt)\n",
    "            #print('mag:', m, 'area:', rup.surface.get_area())\n",
    "            props = {'vs30': 800.0, 'z1pt0': 30.0, 'z2pt5': 0.2, 'backarc': True, 'vs30measured': True}\n",
    "            sites = get_sites_from_rupture(rup, from_point='TC', toward_azimuth=90, direction='positive', \n",
    "                                              hdist=1000, step=10.0, site_props=props)\n",
    "\n",
    "            # Getting contexts the new way, see https://github.com/gem/oq-engine/pull/7064/files\n",
    "            # also see https://github.com/gem/oq-engine/blob/master/openquake/hazardlib/contexts.py#L148\n",
    "            # I think this is technically the old way, but with back-compatibility (i.e. contexts are converted to recarrays)\n",
    "            param = dict(imtls={})\n",
    "            cm = ContextMaker(trt, [gmpe], param)\n",
    "            #rctx, sctx, dctx = cm.make_contexts(sites, rup)\n",
    "            ctxs = cm.get_ctxs([rup], sites)\n",
    "            ctxs = ctxs[0]\n",
    "            ctxs.occurrence_rate = 0.0\n",
    "            \n",
    "            mean, std = gmpe.get_mean_and_stddevs(ctxs, ctxs, ctxs, i, [StdDev.TOTAL])\n",
    "            distances = ctxs.rrup\n",
    "\n",
    "            label=type(gmpe).__name__\n",
    "            pyplot.plot(distances, np.exp(mean), color=col, linewidth=2, linestyle='-', label=label)\n",
    "\n",
    "            #Plot Sigma \n",
    "            pyplot.plot(distances, np.exp(mean+std[0]), linewidth=0.75, color=col, linestyle='--')\n",
    "            pyplot.plot(distances, np.exp(mean-std[0]), linewidth=0.75, color=col, linestyle='--')\n",
    "\n",
    "            if n == 0: #top row only\n",
    "                pyplot.title('Mw' + str(m), fontsize='16')\n",
    "            if n == len(mag_list)-1: #bottom row only\n",
    "                pyplot.xlabel('Rrup (km)', fontsize='14')\n",
    "            if l == 0: # left row only\n",
    "                pyplot.ylabel(str(i) + ' (g)', fontsize='16')\n",
    "            \n",
    "            pyplot.loglog()\n",
    "            pyplot.xlim(10, 1000)\n",
    "            pyplot.ylim(0.0001, 10)\n",
    "        \n",
    "        pyplot.grid(axis='both', which='both', alpha=0.5)\n",
    "    \n",
    "pyplot.legend(loc=\"center left\", bbox_to_anchor=(1.1, 1.05), fontsize='16')\n",
    "#pyplot.savefig('figure.png', bbox_inches='tight',dpi=200,pad_inches = 0.2)\n",
    "pyplot.show()\n",
    "pyplot.tight_layout()\n"
   ]
  },
  {
   "cell_type": "code",
   "execution_count": 5,
   "metadata": {},
   "outputs": [],
   "source": [
    "%%bash\n",
    "open ."
   ]
  },
  {
   "cell_type": "code",
   "execution_count": null,
   "metadata": {},
   "outputs": [],
   "source": []
  }
 ],
 "metadata": {
  "kernelspec": {
   "display_name": "Python 3 (ipykernel)",
   "language": "python",
   "name": "python3"
  },
  "language_info": {
   "codemirror_mode": {
    "name": "ipython",
    "version": 3
   },
   "file_extension": ".py",
   "mimetype": "text/x-python",
   "name": "python",
   "nbconvert_exporter": "python",
   "pygments_lexer": "ipython3",
   "version": "3.8.12"
  }
 },
 "nbformat": 4,
 "nbformat_minor": 4
}
